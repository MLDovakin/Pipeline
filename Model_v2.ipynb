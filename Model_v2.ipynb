{
  "nbformat": 4,
  "nbformat_minor": 0,
  "metadata": {
    "colab": {
      "provenance": []
    },
    "kernelspec": {
      "name": "python3",
      "display_name": "Python 3"
    },
    "language_info": {
      "name": "python"
    }
  },
  "cells": [
    {
      "cell_type": "markdown",
      "source": [
        "# Import"
      ],
      "metadata": {
        "id": "Tu6rq_CLp7WR"
      }
    },
    {
      "cell_type": "code",
      "source": [
        "!pip install xgboost\n",
        "!pip install imbalanced-learn\n",
        "!pip install -q catboost\n",
        "\n",
        "\n",
        "import pandas as pd\n",
        "\n",
        "from sklearn.feature_extraction.text import TfidfVectorizer\n",
        "\n",
        "from sklearn.linear_model import SGDClassifier\n",
        "from sklearn.neighbors import KNeighborsClassifier\n",
        "from xgboost import XGBClassifier\n",
        "from sklearn.ensemble import StackingClassifier\n",
        "from sklearn.linear_model import LogisticRegression\n",
        "from sklearn.ensemble import AdaBoostClassifier\n",
        "from catboost import CatBoostClassifier\n",
        "\n",
        "\n",
        "from sklearn import metrics\n",
        "from sklearn.model_selection import train_test_split\n",
        "\n",
        "from sklearn.feature_selection import SelectKBest\n",
        "from sklearn.feature_selection import chi2\n",
        "\n",
        "from imblearn.over_sampling import SMOTE\n",
        "from imblearn.over_sampling import SVMSMOTE\n",
        "from imblearn.over_sampling import ADASYN\n"
      ],
      "metadata": {
        "colab": {
          "base_uri": "https://localhost:8080/"
        },
        "id": "RAFYfWLOp55y",
        "outputId": "9ceb9864-ebe0-4a36-a22d-d43f776925a1"
      },
      "execution_count": 1,
      "outputs": [
        {
          "output_type": "stream",
          "name": "stdout",
          "text": [
            "Looking in indexes: https://pypi.org/simple, https://us-python.pkg.dev/colab-wheels/public/simple/\n",
            "Requirement already satisfied: xgboost in /usr/local/lib/python3.8/dist-packages (0.90)\n",
            "Requirement already satisfied: scipy in /usr/local/lib/python3.8/dist-packages (from xgboost) (1.7.3)\n",
            "Requirement already satisfied: numpy in /usr/local/lib/python3.8/dist-packages (from xgboost) (1.21.6)\n",
            "Looking in indexes: https://pypi.org/simple, https://us-python.pkg.dev/colab-wheels/public/simple/\n",
            "Requirement already satisfied: imbalanced-learn in /usr/local/lib/python3.8/dist-packages (0.8.1)\n",
            "Requirement already satisfied: scikit-learn>=0.24 in /usr/local/lib/python3.8/dist-packages (from imbalanced-learn) (1.0.2)\n",
            "Requirement already satisfied: numpy>=1.13.3 in /usr/local/lib/python3.8/dist-packages (from imbalanced-learn) (1.21.6)\n",
            "Requirement already satisfied: joblib>=0.11 in /usr/local/lib/python3.8/dist-packages (from imbalanced-learn) (1.2.0)\n",
            "Requirement already satisfied: scipy>=0.19.1 in /usr/local/lib/python3.8/dist-packages (from imbalanced-learn) (1.7.3)\n",
            "Requirement already satisfied: threadpoolctl>=2.0.0 in /usr/local/lib/python3.8/dist-packages (from scikit-learn>=0.24->imbalanced-learn) (3.1.0)\n",
            "\u001b[K     |████████████████████████████████| 76.6 MB 1.2 MB/s \n",
            "\u001b[?25h"
          ]
        }
      ]
    },
    {
      "cell_type": "markdown",
      "source": [
        "# Preparation"
      ],
      "metadata": {
        "id": "dywbLGPWscX6"
      }
    },
    {
      "cell_type": "code",
      "execution_count": 4,
      "metadata": {
        "id": "IPz7Opr2pu0Y"
      },
      "outputs": [],
      "source": [
        "df = pd.read_csv('df_for_train.csv')\n",
        "df.dropna(inplace=True)"
      ]
    },
    {
      "cell_type": "code",
      "source": [
        "tfidf = TfidfVectorizer()\n",
        "feature_matrix = tfidf.fit_transform(df['text'])\n",
        "df1 = pd.DataFrame(data=feature_matrix.todense(), columns=tfidf.get_feature_names())"
      ],
      "metadata": {
        "colab": {
          "base_uri": "https://localhost:8080/"
        },
        "id": "AyxoD_jNp5PZ",
        "outputId": "2bb4f6ff-d5c2-4b9c-884b-64a554515a1e"
      },
      "execution_count": 5,
      "outputs": [
        {
          "output_type": "stream",
          "name": "stderr",
          "text": [
            "/usr/local/lib/python3.8/dist-packages/sklearn/utils/deprecation.py:87: FutureWarning: Function get_feature_names is deprecated; get_feature_names is deprecated in 1.0 and will be removed in 1.2. Please use get_feature_names_out instead.\n",
            "  warnings.warn(msg, category=FutureWarning)\n"
          ]
        }
      ]
    },
    {
      "cell_type": "code",
      "source": [
        "X = df1\n",
        "y = df['type']"
      ],
      "metadata": {
        "id": "ABpf90Y4rBq_"
      },
      "execution_count": 6,
      "outputs": []
    },
    {
      "cell_type": "code",
      "source": [
        "df['type'].value_counts()"
      ],
      "metadata": {
        "colab": {
          "base_uri": "https://localhost:8080/"
        },
        "id": "21M9drxYMuN7",
        "outputId": "b1a1d563-6683-4e38-b221-7d6fe58f9a4f"
      },
      "execution_count": 7,
      "outputs": [
        {
          "output_type": "execute_result",
          "data": {
            "text/plain": [
              "2    28\n",
              "4    23\n",
              "5    23\n",
              "3    21\n",
              "1    21\n",
              "Name: type, dtype: int64"
            ]
          },
          "metadata": {},
          "execution_count": 7
        }
      ]
    },
    {
      "cell_type": "code",
      "source": [
        "X_new = SelectKBest(chi2, k=70).fit_transform(X, y)\n",
        "X_new.shape"
      ],
      "metadata": {
        "colab": {
          "base_uri": "https://localhost:8080/"
        },
        "id": "4Cn1tXGQuKSd",
        "outputId": "ffb200bf-b99e-45cb-be87-84bdfb4ab329"
      },
      "execution_count": 8,
      "outputs": [
        {
          "output_type": "execute_result",
          "data": {
            "text/plain": [
              "(116, 70)"
            ]
          },
          "metadata": {},
          "execution_count": 8
        }
      ]
    },
    {
      "cell_type": "code",
      "source": [
        "X_train, X_test, y_train, y_test = train_test_split(X_new, y, test_size=0.2, random_state=42)"
      ],
      "metadata": {
        "id": "BsMIREZ1qjGk"
      },
      "execution_count": 9,
      "outputs": []
    },
    {
      "cell_type": "code",
      "source": [
        "X_resampled, y_resampled = SVMSMOTE(random_state=42).fit_resample(X_train, y_train)"
      ],
      "metadata": {
        "id": "mtlztE4NOgil"
      },
      "execution_count": 10,
      "outputs": []
    },
    {
      "cell_type": "code",
      "source": [
        "estimators = [('bst', XGBClassifier(max_iter=10000, multi='softmax')), ('SGDC',SGDClassifier(max_iter=10000, random_state=42)), ('knn', KNeighborsClassifier(n_neighbors=10)), ('ada', AdaBoostClassifier(n_estimators=500,random_state=0))]"
      ],
      "metadata": {
        "id": "WDoyDGeKqjB7"
      },
      "execution_count": 11,
      "outputs": []
    },
    {
      "cell_type": "code",
      "source": [
        "clf = StackingClassifier(estimators=estimators, final_estimator=LogisticRegression())\n",
        "clf.fit(X_resampled, y_resampled)"
      ],
      "metadata": {
        "colab": {
          "base_uri": "https://localhost:8080/"
        },
        "id": "2aXPwiiqrLy7",
        "outputId": "ea9a9656-d95a-42a2-8c36-4e8c2623880d"
      },
      "execution_count": 12,
      "outputs": [
        {
          "output_type": "execute_result",
          "data": {
            "text/plain": [
              "StackingClassifier(estimators=[('bst',\n",
              "                                XGBClassifier(max_iter=10000, multi='softmax')),\n",
              "                               ('SGDC',\n",
              "                                SGDClassifier(max_iter=10000, random_state=42)),\n",
              "                               ('knn', KNeighborsClassifier(n_neighbors=10)),\n",
              "                               ('ada',\n",
              "                                AdaBoostClassifier(n_estimators=500,\n",
              "                                                   random_state=0))],\n",
              "                   final_estimator=LogisticRegression())"
            ]
          },
          "metadata": {},
          "execution_count": 12
        }
      ]
    },
    {
      "cell_type": "code",
      "source": [
        "predicted = clf.predict(X_test)\n",
        "print(metrics.classification_report(predicted, y_test))"
      ],
      "metadata": {
        "colab": {
          "base_uri": "https://localhost:8080/"
        },
        "id": "5oJi0ZnrrTV0",
        "outputId": "30d58a75-8f2b-43c6-bd5b-fe73536a70d9"
      },
      "execution_count": 13,
      "outputs": [
        {
          "output_type": "stream",
          "name": "stdout",
          "text": [
            "              precision    recall  f1-score   support\n",
            "\n",
            "           1       1.00      1.00      1.00         6\n",
            "           2       1.00      1.00      1.00         4\n",
            "           3       1.00      1.00      1.00         3\n",
            "           4       0.60      1.00      0.75         3\n",
            "           5       1.00      0.75      0.86         8\n",
            "\n",
            "    accuracy                           0.92        24\n",
            "   macro avg       0.92      0.95      0.92        24\n",
            "weighted avg       0.95      0.92      0.92        24\n",
            "\n"
          ]
        }
      ]
    },
    {
      "cell_type": "markdown",
      "source": [
        "# CatBoost"
      ],
      "metadata": {
        "id": "y8ZdfcSqsUer"
      }
    },
    {
      "cell_type": "code",
      "source": [
        "X_train, X_test, y_train, y_test = train_test_split(X, y, test_size=0.2, random_state=42)"
      ],
      "metadata": {
        "id": "D2mjRK19sT4i"
      },
      "execution_count": 14,
      "outputs": []
    },
    {
      "cell_type": "code",
      "source": [
        "reg = CatBoostClassifier(iterations = 1000,\n",
        "                      loss_function='MultiClass',\n",
        "                      l2_leaf_reg=1,\n",
        "                      learning_rate=0.05,\n",
        "                      depth=7,                          \n",
        "                      task_type='CPU', eval_metric='TotalF1',\n",
        "                      min_data_in_leaf = 32,\n",
        "                      #max_bin = 220,\n",
        "                      #verbose=100,\n",
        "                      #leaf_estimation_iterations=30,\n",
        "                      #od_wait=500,\n",
        "                      grow_policy='Lossguide',\n",
        "                      #learning_rate=0.05,\n",
        "                      #bootstrap_type='Poisson'\n",
        "                      verbose=10\n",
        "                      )\n",
        "\n",
        "reg.fit(X_train, y_train)\n",
        "predicted = reg.predict(X_test)\n",
        "print(metrics.classification_report(predicted, y_test))"
      ],
      "metadata": {
        "colab": {
          "base_uri": "https://localhost:8080/"
        },
        "id": "cCVTVtdDsrx6",
        "outputId": "3b026d7a-f58e-46ee-c176-1a3f2df0e062"
      },
      "execution_count": 15,
      "outputs": [
        {
          "output_type": "stream",
          "name": "stdout",
          "text": [
            "900:\tlearn: 0.9891617\ttotal: 58.8s\tremaining: 6.46s\n",
            "910:\tlearn: 0.9891617\ttotal: 59.6s\tremaining: 5.82s\n",
            "920:\tlearn: 0.9891617\ttotal: 1m\tremaining: 5.21s\n",
            "930:\tlearn: 0.9891617\ttotal: 1m 1s\tremaining: 4.56s\n",
            "940:\tlearn: 0.9891617\ttotal: 1m 2s\tremaining: 3.9s\n",
            "950:\tlearn: 0.9891617\ttotal: 1m 2s\tremaining: 3.24s\n",
            "960:\tlearn: 0.9891617\ttotal: 1m 3s\tremaining: 2.58s\n",
            "970:\tlearn: 0.9891617\ttotal: 1m 4s\tremaining: 1.91s\n",
            "980:\tlearn: 0.9891617\ttotal: 1m 4s\tremaining: 1.25s\n",
            "990:\tlearn: 0.9891617\ttotal: 1m 5s\tremaining: 594ms\n",
            "999:\tlearn: 0.9891617\ttotal: 1m 5s\tremaining: 0us\n",
            "              precision    recall  f1-score   support\n",
            "\n",
            "           1       1.00      1.00      1.00         6\n",
            "           2       1.00      1.00      1.00         4\n",
            "           3       1.00      1.00      1.00         3\n",
            "           4       0.60      1.00      0.75         3\n",
            "           5       1.00      0.75      0.86         8\n",
            "\n",
            "    accuracy                           0.92        24\n",
            "   macro avg       0.92      0.95      0.92        24\n",
            "weighted avg       0.95      0.92      0.92        24\n",
            "\n"
          ]
        }
      ]
    }
  ]
}