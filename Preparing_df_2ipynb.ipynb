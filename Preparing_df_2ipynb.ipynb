{
  "nbformat": 4,
  "nbformat_minor": 0,
  "metadata": {
    "colab": {
      "provenance": [],
      "collapsed_sections": [
        "vN2vlByXuwPG",
        "xhkxTuBgus9u"
      ]
    },
    "kernelspec": {
      "name": "python3",
      "display_name": "Python 3"
    },
    "language_info": {
      "name": "python"
    }
  },
  "cells": [
    {
      "cell_type": "markdown",
      "source": [
        "# Import"
      ],
      "metadata": {
        "id": "vN2vlByXuwPG"
      }
    },
    {
      "cell_type": "code",
      "execution_count": 3,
      "metadata": {
        "id": "p12Jm52OX6Pi",
        "colab": {
          "base_uri": "https://localhost:8080/"
        },
        "outputId": "90ba8283-090e-4231-9b5c-c19c06ecd729"
      },
      "outputs": [
        {
          "output_type": "stream",
          "name": "stdout",
          "text": [
            "Looking in indexes: https://pypi.org/simple, https://us-python.pkg.dev/colab-wheels/public/simple/\n",
            "Requirement already satisfied: PyPDF2 in /usr/local/lib/python3.8/dist-packages (2.12.1)\n",
            "Requirement already satisfied: typing_extensions>=3.10.0.0 in /usr/local/lib/python3.8/dist-packages (from PyPDF2) (4.4.0)\n",
            "Looking in indexes: https://pypi.org/simple, https://us-python.pkg.dev/colab-wheels/public/simple/\n",
            "Requirement already satisfied: pikepdf in /usr/local/lib/python3.8/dist-packages (6.2.6)\n",
            "Requirement already satisfied: Pillow>=9.0 in /usr/local/lib/python3.8/dist-packages (from pikepdf) (9.3.0)\n",
            "Requirement already satisfied: lxml>=4.8 in /usr/local/lib/python3.8/dist-packages (from pikepdf) (4.9.1)\n",
            "Requirement already satisfied: deprecation in /usr/local/lib/python3.8/dist-packages (from pikepdf) (2.1.0)\n",
            "Requirement already satisfied: packaging in /usr/local/lib/python3.8/dist-packages (from pikepdf) (21.3)\n",
            "Requirement already satisfied: pyparsing!=3.0.5,>=2.0.2 in /usr/local/lib/python3.8/dist-packages (from packaging->pikepdf) (3.0.9)\n",
            "Looking in indexes: https://pypi.org/simple, https://us-python.pkg.dev/colab-wheels/public/simple/\n",
            "Requirement already satisfied: textract in /usr/local/lib/python3.8/dist-packages (1.6.5)\n",
            "Requirement already satisfied: chardet==3.* in /usr/local/lib/python3.8/dist-packages (from textract) (3.0.4)\n",
            "Requirement already satisfied: pdfminer.six==20191110 in /usr/local/lib/python3.8/dist-packages (from textract) (20191110)\n",
            "Requirement already satisfied: extract-msg<=0.29.* in /usr/local/lib/python3.8/dist-packages (from textract) (0.28.7)\n",
            "Requirement already satisfied: six~=1.12.0 in /usr/local/lib/python3.8/dist-packages (from textract) (1.12.0)\n",
            "Requirement already satisfied: docx2txt~=0.8 in /usr/local/lib/python3.8/dist-packages (from textract) (0.8)\n",
            "Requirement already satisfied: argcomplete~=1.10.0 in /usr/local/lib/python3.8/dist-packages (from textract) (1.10.3)\n",
            "Requirement already satisfied: python-pptx~=0.6.18 in /usr/local/lib/python3.8/dist-packages (from textract) (0.6.21)\n",
            "Requirement already satisfied: xlrd~=1.2.0 in /usr/local/lib/python3.8/dist-packages (from textract) (1.2.0)\n",
            "Requirement already satisfied: SpeechRecognition~=3.8.1 in /usr/local/lib/python3.8/dist-packages (from textract) (3.8.1)\n",
            "Requirement already satisfied: beautifulsoup4~=4.8.0 in /usr/local/lib/python3.8/dist-packages (from textract) (4.8.2)\n",
            "Requirement already satisfied: sortedcontainers in /usr/local/lib/python3.8/dist-packages (from pdfminer.six==20191110->textract) (2.4.0)\n",
            "Requirement already satisfied: pycryptodome in /usr/local/lib/python3.8/dist-packages (from pdfminer.six==20191110->textract) (3.16.0)\n",
            "Requirement already satisfied: soupsieve>=1.2 in /usr/local/lib/python3.8/dist-packages (from beautifulsoup4~=4.8.0->textract) (2.3.2.post1)\n",
            "Requirement already satisfied: imapclient==2.1.0 in /usr/local/lib/python3.8/dist-packages (from extract-msg<=0.29.*->textract) (2.1.0)\n",
            "Requirement already satisfied: ebcdic>=1.1.1 in /usr/local/lib/python3.8/dist-packages (from extract-msg<=0.29.*->textract) (1.1.1)\n",
            "Requirement already satisfied: compressed-rtf>=1.0.6 in /usr/local/lib/python3.8/dist-packages (from extract-msg<=0.29.*->textract) (1.0.6)\n",
            "Requirement already satisfied: olefile>=0.46 in /usr/local/lib/python3.8/dist-packages (from extract-msg<=0.29.*->textract) (0.46)\n",
            "Requirement already satisfied: tzlocal>=2.1 in /usr/local/lib/python3.8/dist-packages (from extract-msg<=0.29.*->textract) (4.2)\n",
            "Requirement already satisfied: XlsxWriter>=0.5.7 in /usr/local/lib/python3.8/dist-packages (from python-pptx~=0.6.18->textract) (3.0.3)\n",
            "Requirement already satisfied: lxml>=3.1.0 in /usr/local/lib/python3.8/dist-packages (from python-pptx~=0.6.18->textract) (4.9.1)\n",
            "Requirement already satisfied: Pillow>=3.3.2 in /usr/local/lib/python3.8/dist-packages (from python-pptx~=0.6.18->textract) (9.3.0)\n",
            "Requirement already satisfied: pytz-deprecation-shim in /usr/local/lib/python3.8/dist-packages (from tzlocal>=2.1->extract-msg<=0.29.*->textract) (0.1.0.post0)\n",
            "Requirement already satisfied: backports.zoneinfo in /usr/local/lib/python3.8/dist-packages (from tzlocal>=2.1->extract-msg<=0.29.*->textract) (0.2.1)\n",
            "Requirement already satisfied: tzdata in /usr/local/lib/python3.8/dist-packages (from pytz-deprecation-shim->tzlocal>=2.1->extract-msg<=0.29.*->textract) (2022.7)\n",
            "Reading package lists... Done\n",
            "Building dependency tree       \n",
            "Reading state information... Done\n",
            "libjpeg-dev is already the newest version (8c-2ubuntu8).\n",
            "python-dev is already the newest version (2.7.15~rc1-1).\n",
            "antiword is already the newest version (0.37-11build1).\n",
            "lame is already the newest version (3.100-2).\n",
            "pstotext is already the newest version (1.9-6build1).\n",
            "swig is already the newest version (3.0.12-1).\n",
            "tesseract-ocr is already the newest version (4.00~git2288-10f4998a-2).\n",
            "unrtf is already the newest version (0.21.9-clean-3).\n",
            "libxml2-dev is already the newest version (2.9.4+dfsg1-6.1ubuntu1.8).\n",
            "libxslt1-dev is already the newest version (1.1.29-5ubuntu0.3).\n",
            "poppler-utils is already the newest version (0.62.0-2ubuntu2.14).\n",
            "ffmpeg is already the newest version (7:3.4.11-0ubuntu0.1).\n",
            "flac is already the newest version (1.3.2-1ubuntu0.1).\n",
            "libmad0 is already the newest version (0.15.1b-9ubuntu18.04.1).\n",
            "libsox-fmt-mp3 is already the newest version (14.4.2-3ubuntu0.18.04.1).\n",
            "sox is already the newest version (14.4.2-3ubuntu0.18.04.1).\n",
            "The following package was automatically installed and is no longer required:\n",
            "  libnvidia-common-460\n",
            "Use 'apt autoremove' to remove it.\n",
            "0 upgraded, 0 newly installed, 0 to remove and 20 not upgraded.\n",
            "Looking in indexes: https://pypi.org/simple, https://us-python.pkg.dev/colab-wheels/public/simple/\n",
            "Requirement already satisfied: nltk in /root/.local/lib/python3.8/site-packages (3.8)\n",
            "Requirement already satisfied: click in /usr/local/lib/python3.8/dist-packages (from nltk) (7.1.2)\n",
            "Requirement already satisfied: regex>=2021.8.3 in /usr/local/lib/python3.8/dist-packages (from nltk) (2022.6.2)\n",
            "Requirement already satisfied: joblib in /usr/local/lib/python3.8/dist-packages (from nltk) (1.2.0)\n",
            "Requirement already satisfied: tqdm in /usr/local/lib/python3.8/dist-packages (from nltk) (4.64.1)\n",
            "Looking in indexes: https://pypi.org/simple, https://us-python.pkg.dev/colab-wheels/public/simple/\n",
            "Requirement already satisfied: tika in /usr/local/lib/python3.8/dist-packages (1.24)\n",
            "Requirement already satisfied: setuptools in /usr/local/lib/python3.8/dist-packages (from tika) (57.4.0)\n",
            "Requirement already satisfied: requests in /usr/local/lib/python3.8/dist-packages (from tika) (2.23.0)\n",
            "Requirement already satisfied: certifi>=2017.4.17 in /usr/local/lib/python3.8/dist-packages (from requests->tika) (2022.9.24)\n",
            "Requirement already satisfied: chardet<4,>=3.0.2 in /usr/local/lib/python3.8/dist-packages (from requests->tika) (3.0.4)\n",
            "Requirement already satisfied: idna<3,>=2.5 in /usr/local/lib/python3.8/dist-packages (from requests->tika) (2.10)\n",
            "Requirement already satisfied: urllib3!=1.25.0,!=1.25.1,<1.26,>=1.21.1 in /usr/local/lib/python3.8/dist-packages (from requests->tika) (1.24.3)\n",
            "Looking in indexes: https://pypi.org/simple, https://us-python.pkg.dev/colab-wheels/public/simple/\n",
            "Requirement already satisfied: yake in /usr/local/lib/python3.8/dist-packages (0.4.8)\n",
            "Requirement already satisfied: click>=6.0 in /usr/local/lib/python3.8/dist-packages (from yake) (7.1.2)\n",
            "Requirement already satisfied: tabulate in /usr/local/lib/python3.8/dist-packages (from yake) (0.8.10)\n",
            "Requirement already satisfied: segtok in /usr/local/lib/python3.8/dist-packages (from yake) (1.5.11)\n",
            "Requirement already satisfied: numpy in /usr/local/lib/python3.8/dist-packages (from yake) (1.21.6)\n",
            "Requirement already satisfied: networkx in /usr/local/lib/python3.8/dist-packages (from yake) (2.8.8)\n",
            "Requirement already satisfied: jellyfish in /usr/local/lib/python3.8/dist-packages (from yake) (0.9.0)\n",
            "Requirement already satisfied: regex in /usr/local/lib/python3.8/dist-packages (from segtok->yake) (2022.6.2)\n"
          ]
        }
      ],
      "source": [
        "!pip install PyPDF2\n",
        "!pip install pikepdf\n",
        "!pip install textract\n",
        "!apt-get install python-dev libxml2-dev libxslt1-dev antiword unrtf poppler-utils pstotext tesseract-ocr \\\n",
        "flac ffmpeg lame libmad0 libsox-fmt-mp3 sox libjpeg-dev swig\n",
        "!pip install --user -U nltk\n",
        "!pip install tika\n",
        "!pip install yake"
      ]
    },
    {
      "cell_type": "code",
      "source": [
        "import os\n",
        "from pathlib import Path\n",
        "\n",
        "import pandas as pd\n",
        "import PyPDF2\n",
        "import pikepdf\n",
        "import textract\n",
        "import json\n",
        "import re\n",
        "\n",
        "import nltk\n",
        "from nltk.corpus import stopwords\n",
        "from nltk.tokenize import word_tokenize\n",
        "\n",
        "from nltk.corpus import wordnet as wn\n",
        "from nltk.tokenize import word_tokenize\n",
        "from nltk import WordNetLemmatizer\n",
        "\n",
        "from tika import parser\n",
        "import yake"
      ],
      "metadata": {
        "id": "qRRLUEUnU4EX"
      },
      "execution_count": 4,
      "outputs": []
    },
    {
      "cell_type": "code",
      "source": [
        "nltk.download(\"stopwords\")\n",
        "nltk.download('punkt')\n",
        "nltk.download('wordnet')\n",
        "nltk.download('omw-1.4')"
      ],
      "metadata": {
        "colab": {
          "base_uri": "https://localhost:8080/"
        },
        "id": "Vk-Tpc2TVA7X",
        "outputId": "bdac151d-fe02-4499-8eb0-c983f08718d5"
      },
      "execution_count": 5,
      "outputs": [
        {
          "output_type": "stream",
          "name": "stderr",
          "text": [
            "[nltk_data] Downloading package stopwords to /root/nltk_data...\n",
            "[nltk_data]   Package stopwords is already up-to-date!\n",
            "[nltk_data] Downloading package punkt to /root/nltk_data...\n",
            "[nltk_data]   Package punkt is already up-to-date!\n",
            "[nltk_data] Downloading package wordnet to /root/nltk_data...\n",
            "[nltk_data]   Package wordnet is already up-to-date!\n",
            "[nltk_data] Downloading package omw-1.4 to /root/nltk_data...\n",
            "[nltk_data]   Package omw-1.4 is already up-to-date!\n"
          ]
        },
        {
          "output_type": "execute_result",
          "data": {
            "text/plain": [
              "True"
            ]
          },
          "metadata": {},
          "execution_count": 5
        }
      ]
    },
    {
      "cell_type": "markdown",
      "source": [
        "# Functions"
      ],
      "metadata": {
        "id": "xhkxTuBgus9u"
      }
    },
    {
      "cell_type": "code",
      "source": [
        "def main(type=1):\n",
        "    '''if tupe = 1, works with file. Otherwise with folder'''\n",
        "    if type == 1:\n",
        "      file_path = input(\"Enter a file path: \")\n",
        "      print(text_recognition(file_path=file_path))\n",
        "    else:\n",
        "      folder_path = input(\"Enter a folder path: \")\n",
        "      names = os.listdir(folder_path)\n",
        "      for name in names:\n",
        "        file_path = folder_path + '/' + name\n",
        "        print(text_recognition(file_path=file_path)) "
      ],
      "metadata": {
        "id": "D0ydfSwEYQNr"
      },
      "execution_count": 17,
      "outputs": []
    },
    {
      "cell_type": "code",
      "source": [
        "def text_recognition(file_path):\n",
        "    '''For recognition pdf and convert to txt format. Also  convert doc/docx formats to txt'''\n",
        "  \n",
        "    text_file_name = f'result_{Path(file_path).stem}.txt' #name\n",
        "    \n",
        "    result = []\n",
        "    new_text = ''\n",
        "\n",
        "    if Path(file_path).suffix == '.pdf':\n",
        "      try:\n",
        "        pdf_file = open(file_path, 'rb')\n",
        "        read_pdf = PyPDF2.PdfFileReader(pdf_file)\n",
        "      except:\n",
        "        pdf_file = pikepdf.Pdf.open(file_path, allow_overwriting_input=True).save(file_path)\n",
        "        pdf_file = open(file_path, 'rb')\n",
        "        read_pdf = PyPDF2.PdfFileReader(pdf_file)\n",
        "      \n",
        "      page = read_pdf.getPage(0)\n",
        "      text = page.extract_text()\n",
        "\n",
        "      text = text_lemma(text_preparation(text))\n",
        "\n",
        "      with open(text_file_name, \"w\") as file:\n",
        "        file.write(\" \".join(text))\n",
        "      \n",
        "    elif Path(file_path).suffix == '.doc':\n",
        "      parsed = parser.from_file(file_path)\n",
        "      result.append(parsed.get('content'))\n",
        "      text = text_lemma(text_preparation(result[0]))\n",
        "\n",
        "      with open(text_file_name, \"w\") as file:\n",
        "        file.write(\" \".join(text))\n",
        "\n",
        "    elif Path(file_path).suffix == '.docx':\n",
        "      text = textract.process(file_path, extension='docx').decode('utf-8')\n",
        "      text = text_lemma(text_preparation(text))\n",
        "\n",
        "      with open(text_file_name, \"w\") as file:\n",
        "        file.write(\" \".join(text))\n",
        "\n",
        "    else:\n",
        "      pass\n",
        "    \n",
        "\n",
        "    try:\n",
        "      df_creator(os.path.dirname(file_path)+'/'+text_file_name)\n",
        "    except:\n",
        "      pass\n",
        "    \n",
        "    '''try:\n",
        "      os.remove(file_path)\n",
        "    except:\n",
        "      pass  '''\n",
        "\n",
        "    return f\"Result wrote into {text_file_name}\""
      ],
      "metadata": {
        "id": "hLdi4JpAYVIp"
      },
      "execution_count": 18,
      "outputs": []
    },
    {
      "cell_type": "code",
      "source": [
        "def text_preparation(text):  \n",
        "    text = re.sub(r'[^а-яА-Я ]', ' ', text)\n",
        "    text = text.lower()\n",
        "    return text"
      ],
      "metadata": {
        "id": "qpDFzYElYa_h"
      },
      "execution_count": 19,
      "outputs": []
    },
    {
      "cell_type": "code",
      "source": [
        "def keyword(file_path):\n",
        "  with open(file_path, \"r\") as file:\n",
        "    text = file.read()\n",
        "  extractor = yake.KeywordExtractor (\n",
        "    lan = \"ru\",     # язык\n",
        "    n = 2,          # максимальное количество слов в фразе\n",
        "    dedupLim = 0.9, # порог похожести слов\n",
        "    top = 10        # количество ключевых слов\n",
        "  )\n",
        "  keywords = []\n",
        "  for i in range(len(extractor.extract_keywords(text))):\n",
        "    keywords.append(extractor.extract_keywords(text)[i][0])\n",
        "  \n",
        "\n",
        "  return \" \".join(keywords)"
      ],
      "metadata": {
        "id": "A24Ix0ehYr7w"
      },
      "execution_count": 20,
      "outputs": []
    },
    {
      "cell_type": "code",
      "source": [
        "def text_lemma(text):\n",
        "  result =  filtr(lemmatize(tokeniser(text)))\n",
        "  return result"
      ],
      "metadata": {
        "id": "HJk7nXiyYot5"
      },
      "execution_count": 21,
      "outputs": []
    },
    {
      "cell_type": "code",
      "source": [
        "def filtr(tokens):\n",
        "    stop_words = stopwords.words(\"russian\")\n",
        "    stop_words.append(['настоящий договор', 'настоящего договора', 'настоящим договором', 'настоящему договору',\\\n",
        "                  'настоящего', 'договора', 'настоящим', 'договором ', 'договорy', 'к', 'на', '...'])\n",
        "    filtered_tokens = []\n",
        "    for token in tokens:\n",
        "      if token not in stop_words:\n",
        "          filtered_tokens.append(token)\n",
        "    return filtered_tokens"
      ],
      "metadata": {
        "id": "KzLfZz6TYhrQ"
      },
      "execution_count": 22,
      "outputs": []
    },
    {
      "cell_type": "code",
      "source": [
        "def lemmatize(tokens):\n",
        "    try:\n",
        "        wnl = nltk.WordNetLemmatizer()\n",
        "    except LookupError:\n",
        "        nltk.download('wordnet')\n",
        "        wnl = nltk.WordNetLemmatizer()\n",
        "    return [wnl.lemmatize(t) for t in tokens] "
      ],
      "metadata": {
        "id": "TyzC8D_JYmFg"
      },
      "execution_count": 23,
      "outputs": []
    },
    {
      "cell_type": "code",
      "source": [
        "def tokeniser(text):\n",
        "  tokens = word_tokenize(text, language=\"russian\")\n",
        "  return tokens"
      ],
      "metadata": {
        "id": "bkz4bcmqYn8t"
      },
      "execution_count": 24,
      "outputs": []
    },
    {
      "cell_type": "code",
      "source": [
        "def df_creator(path):\n",
        "  with open(path, \"r\") as file:\n",
        "    file_text = file.read()\n",
        "  df.loc[ len(df.index )] = [Path(path).name.split('_')[-1].split('.')[0], file_text, keyword(path)]\n",
        "  \n",
        "  #os.remove(path) #Удаляет ненужный файл\n",
        "\n",
        "  return df"
      ],
      "metadata": {
        "id": "oIxMQnoTYxEs"
      },
      "execution_count": 25,
      "outputs": []
    },
    {
      "cell_type": "markdown",
      "source": [
        "# Work process\n"
      ],
      "metadata": {
        "id": "vpoe8kFCugHj"
      }
    },
    {
      "cell_type": "code",
      "source": [
        "df = pd.DataFrame(columns=['name', 'text', 'keywords'])"
      ],
      "metadata": {
        "id": "BCammmQOuBOl"
      },
      "execution_count": 15,
      "outputs": []
    },
    {
      "cell_type": "code",
      "source": [
        "main(type=0)"
      ],
      "metadata": {
        "id": "TTfz6O3EuJ32",
        "colab": {
          "base_uri": "https://localhost:8080/"
        },
        "outputId": "bd51e7b1-c015-4dfa-88be-eb3b71d36dc1"
      },
      "execution_count": 16,
      "outputs": [
        {
          "output_type": "stream",
          "name": "stdout",
          "text": [
            "Enter a folder path: /content\n",
            "Result wrote into result_.config.txt\n",
            "Result wrote into result_855c8450351c98a25ea2ac22a0256c7f.txt\n",
            "Result wrote into result_35b6a0f57d909507c5aa9a8972b15f35.txt\n",
            "Result wrote into result_6babd660f1a9192017a06b7e93bea919.txt\n",
            "Result wrote into result_2b408919fd9833dc3f6892aad753f21f.txt\n",
            "Result wrote into result_214d620d9c54bc83111277dd872d3cb2.txt\n",
            "Result wrote into result_result_86d6d0062e91651ccc3d3ce35b162bf8.txt\n",
            "Result wrote into result_result_a7966d0674c94a6e752e3a5832edb2a9.txt\n",
            "Result wrote into result_2fd747f38e30ae7ce1c9d6e3b907ac5d.txt\n",
            "Result wrote into result_.ipynb_checkpoints.txt\n",
            "Result wrote into result_result_7ce2d613ac62ec5e4ef3d988c1f91582.txt\n",
            "Result wrote into result_result_b7acf29be1d3e4b9cb529683e676fadb.txt\n",
            "Result wrote into result_result_bdfb262c00991dddebfc5d4a87604284.txt\n",
            "Result wrote into result_result_453b2cb6e4ba7b8d1a8382773880d313.txt\n",
            "Result wrote into result_result_2351cf256df1b683a425211c1ed0e848.txt\n",
            "Result wrote into result_19e2becdb0f10e1c16a5a2460f3a84a2.txt\n",
            "Result wrote into result_result_084edc7dfc3db04e3a3c55c102f47bcb.txt\n",
            "Result wrote into result_result_317e4552102e82bd9e17ba1205cd4367.txt\n",
            "Result wrote into result_result_f57fe87f15a6dee2b17e804421be63b5.txt\n",
            "Result wrote into result_result_b19a67817142ea9f2231aa63dfd2981c.txt\n",
            "Result wrote into result_242b138fd2025b7a5207876098355e03.txt\n",
            "Result wrote into result_d0e8ce466209873b70ddfdbacf0eef71.txt\n",
            "Result wrote into result_result_79104075f8b2ff971d51c495e67af52c.txt\n",
            "Result wrote into result_result_82e5f04228e8d6768de9e4a4c565e89f.txt\n",
            "Result wrote into result_result_85a65ecc4763c760f914382d6e26b1f1.txt\n",
            "Result wrote into result_result_2c81df29db63aebf495106881a52188f.txt\n",
            "Result wrote into result_508bdc1406af695fd7ab1f22b69b9857.txt\n",
            "Result wrote into result_31d24c0d4694e7c2fb19933b84414b40.txt\n",
            "Result wrote into result_641282d3072e91ab05c97110e0340020.txt\n",
            "Result wrote into result_classes.txt\n",
            "Result wrote into result_b303afea664ed05cdbc73a8c3b31b09d.txt\n",
            "Result wrote into result_e6a90919eab84ecbbdca11016c37b3a9.txt\n",
            "Result wrote into result_e6a6d61368866475f346f078cf2cbe60.txt\n",
            "Result wrote into result_result_eddc39f5f675890f285014c886bf22c9.txt\n",
            "Result wrote into result_result_4e583dc5a5f1499fd2408f3152589f2d.txt\n",
            "Result wrote into result_result_736cc87395089b9611b0db70d2999d75.txt\n",
            "Result wrote into result_result_0ca2f9faecdbc67d6686a9f5b6636eba.txt\n",
            "Result wrote into result_736cc87395089b9611b0db70d2999d75.txt\n",
            "Result wrote into result_a40a0347f0a91f2537ccc67c46d883b7.txt\n",
            "Result wrote into result_result_a543a2a59bd604ad1224040b14844b49.txt\n",
            "Result wrote into result_d143c89d002fcef3e2bd2efdb4966f55.txt\n",
            "Result wrote into result_result_6cd62be718ceb49408c49e00e7b12a5e.txt\n",
            "Result wrote into result_result_a0e06a957c1a729fe1d978605680e2ae.txt\n",
            "Result wrote into result_result_d143c89d002fcef3e2bd2efdb4966f55.txt\n",
            "Result wrote into result_result_242b138fd2025b7a5207876098355e03.txt\n",
            "Result wrote into result_62e280b12c607701866006e37ad990a5.txt\n",
            "Result wrote into result_result_bec0aa38d1383172690a18d16b07f154.txt\n",
            "Result wrote into result_result_3588ff6fb8f5c5a5f70196500198ca3a.txt\n",
            "Result wrote into result_d54c0b06162cf7cf57e8b1e7356aa204.txt\n",
            "Result wrote into result_6cd62be718ceb49408c49e00e7b12a5e.txt\n",
            "Result wrote into result_result_cbf3217807791a37499a7b8d94616fdc.txt\n",
            "Result wrote into result_18d573815c15b4e798bdfbfb52fb2f43.txt\n",
            "Result wrote into result_02682d726b725f95b9ee85f751c043d0.txt\n",
            "Result wrote into result_82e5f04228e8d6768de9e4a4c565e89f.txt\n",
            "Result wrote into result_b40a9d048b199d5f4db62a6a2335f2a0.txt\n",
            "Result wrote into result_4e583dc5a5f1499fd2408f3152589f2d.txt\n",
            "Result wrote into result_f3734851311f2a7ac6c66ad7ccbe1d2c.txt\n",
            "Result wrote into result_123c9dd7b2736589f1f286d2112bc4eb.txt\n",
            "Result wrote into result_4db6b233fda895c3bffcb5fdc5b8e1de.txt\n",
            "Result wrote into result_result_7ecd641f2ad81961c17455ed3ebeb2ab.txt\n",
            "Result wrote into result_85a65ecc4763c760f914382d6e26b1f1.txt\n",
            "Result wrote into result_259b481366842141111305897cce7486.txt\n",
            "Result wrote into result_bec0aa38d1383172690a18d16b07f154.txt\n",
            "Result wrote into result_result_0b4be82b86eff410d69d1d6b5553d220.txt\n",
            "Result wrote into result_cf89a65d4477656ec05262ae55bb6aaa.txt\n",
            "Result wrote into result_result_8b82f3c800e486d9da9a13c98f7a40d6.txt\n",
            "Result wrote into result_2c758805e2917306e6cbb079e2adcfcf.txt\n",
            "Result wrote into result_result_e6a6d61368866475f346f078cf2cbe60.txt\n",
            "Result wrote into result_result_2b408919fd9833dc3f6892aad753f21f.txt\n",
            "Result wrote into result_981d5a0ebbecffa588848251d0750fec.txt\n",
            "Result wrote into result_7e0cf1019baa9e1cdabcfc06d522d424.txt\n",
            "Result wrote into result_result_123c9dd7b2736589f1f286d2112bc4eb.txt\n",
            "Result wrote into result_8ee681886de97951748528c7c78d03a7.txt\n",
            "Result wrote into result_result_8c5ce9a193c788cadf94ddec5607f3b4.txt\n",
            "Result wrote into result_4c2c295e81f4a6c3e669e8f76c6ce423.txt\n",
            "Result wrote into result_result_67170dee29deff9bc80087a94aef7ea4.txt\n",
            "Result wrote into result_8c5ce9a193c788cadf94ddec5607f3b4.txt\n",
            "Result wrote into result_b7acf29be1d3e4b9cb529683e676fadb.txt\n",
            "Result wrote into result_14711e4fc8e56f0c75856c8837ec04cb.txt\n",
            "Result wrote into result_6b18c046e7ccfdaf9123c11980f56c35.txt\n",
            "Result wrote into result_result_5e9754740f6c89a96cf5996404ec3c27.txt\n",
            "Result wrote into result_result_f28d4a853be12515dae73a5912bc5b41.txt\n",
            "Result wrote into result_result_ff6882cb4a3ec31dec18a94e1d1745b1.txt\n",
            "Result wrote into result_result_c7a0230f5a8e1cbe7a6bec435b71a43c.txt\n",
            "Result wrote into result_4a5707e447271a188a1211606b158a94.txt\n",
            "Result wrote into result_910ccf7c9b029846e4390ddac5f8d687.txt\n",
            "Result wrote into result_result_8ee681886de97951748528c7c78d03a7.txt\n",
            "Result wrote into result_84fec112d02288861e7af59f468131fb.txt\n",
            "Result wrote into result_result_bd9b731375abcdb9969af05ec9fb03fa.txt\n",
            "Result wrote into result_result_508bdc1406af695fd7ab1f22b69b9857.txt\n",
            "Result wrote into result_453b2cb6e4ba7b8d1a8382773880d313.txt\n",
            "Result wrote into result_a2f8675b6d37b6af819ca3fdbb0e3432.txt\n",
            "Result wrote into result_result_41b36e9a90f36be9ed2a2b4f44e5c848.txt\n",
            "Result wrote into result_result_c3141b7956167ce3987b82beb6cf73c4.txt\n",
            "Result wrote into result_eddc39f5f675890f285014c886bf22c9.txt\n",
            "Result wrote into result_result_2fd747f38e30ae7ce1c9d6e3b907ac5d.txt\n",
            "Result wrote into result_result_616d4446e85de23f29337a6e089c67cb.txt\n",
            "Result wrote into result_bd9b731375abcdb9969af05ec9fb03fa.txt\n",
            "Result wrote into result_result_35b6a0f57d909507c5aa9a8972b15f35.txt\n",
            "Result wrote into result_result_f3734851311f2a7ac6c66ad7ccbe1d2c.txt\n",
            "Result wrote into result_7ce2d613ac62ec5e4ef3d988c1f91582.txt\n",
            "Result wrote into result_57962abd8dbe0ce0c7056896ee4501f1.txt\n",
            "Result wrote into result_result_ef140e96384a29057445d0a889f1ad50.txt\n",
            "Result wrote into result_1ea8809d696a4bd6a2076fbc6fd28c23.txt\n",
            "Result wrote into result_cbf3217807791a37499a7b8d94616fdc.txt\n",
            "Result wrote into result_a543a2a59bd604ad1224040b14844b49.txt\n",
            "Result wrote into result_result_2054a58154349bc54b691666fe3f89b1.txt\n",
            "Result wrote into result_0f7f507d0af90aba3c35484de016d8b4.txt\n",
            "Result wrote into result_0b4be82b86eff410d69d1d6b5553d220.txt\n",
            "Result wrote into result_67170dee29deff9bc80087a94aef7ea4.txt\n",
            "Result wrote into result_result_d0e8ce466209873b70ddfdbacf0eef71.txt\n",
            "Result wrote into result_f57fe87f15a6dee2b17e804421be63b5.txt\n",
            "Result wrote into result_result_086ad48895d2a73854b6151decc28800.txt\n",
            "Result wrote into result_c7a0230f5a8e1cbe7a6bec435b71a43c.txt\n",
            "Result wrote into result_0ca2f9faecdbc67d6686a9f5b6636eba.txt\n",
            "Result wrote into result_82b672721c50b8897a3cf7c98c0d8e0c.txt\n",
            "Result wrote into result_f8eabec67b770c384d84f9feb7e02543.txt\n",
            "Result wrote into result_34f5456e56beb78b311728f738167d3a.txt\n",
            "Result wrote into result_f28d4a853be12515dae73a5912bc5b41.txt\n",
            "Result wrote into result_2b25ecf601a9ce0c2a33c8e1d9746df2.txt\n",
            "Result wrote into result_result_b95bbf14eb26ac912b1339e321cbca34.txt\n",
            "Result wrote into result_66ee9b692a6b9c690564c92121a76b15.txt\n",
            "Result wrote into result_5262e9c377c3ab1f6b8141762cca69ad.txt\n",
            "Result wrote into result_result_a8a9861b63d26f13f0f10a075158b6da.txt\n",
            "Result wrote into result_6df1c02e4f9adaa9b87126dc3cb2d72b.txt\n",
            "Result wrote into result_084edc7dfc3db04e3a3c55c102f47bcb.txt\n",
            "Result wrote into result_result_3031ff9bc88ad88532311b419267c875.txt\n",
            "Result wrote into result_result_f8eabec67b770c384d84f9feb7e02543.txt\n",
            "Result wrote into result_abcec818adbe358f8071a75e0fe2cc49.txt\n",
            "Result wrote into result_79104075f8b2ff971d51c495e67af52c.txt\n",
            "Result wrote into result_7ecd641f2ad81961c17455ed3ebeb2ab.txt\n",
            "Result wrote into result_58c8976ca35aa805aa9d21246d5d18ee.txt\n",
            "Result wrote into result_a7966d0674c94a6e752e3a5832edb2a9.txt\n",
            "Result wrote into result_result_69ab7557dee21939aa7432b23a54cb2b.txt\n",
            "Result wrote into result_result_97d4cf03b88c9e040557ab1b61e2e7a2.txt\n",
            "Result wrote into result_result_91ba127aad1b88905603ecc3aacac0d1.txt\n",
            "Result wrote into result_result_31d24c0d4694e7c2fb19933b84414b40.txt\n",
            "Result wrote into result_result_6b18c046e7ccfdaf9123c11980f56c35.txt\n",
            "Result wrote into result_41b36e9a90f36be9ed2a2b4f44e5c848.txt\n",
            "Result wrote into result_result_6df1c02e4f9adaa9b87126dc3cb2d72b.txt\n",
            "Result wrote into result_result_214d620d9c54bc83111277dd872d3cb2.txt\n",
            "Result wrote into result_8540a7dccb3a9e4d0a1a2611e077ce9d.txt\n",
            "Result wrote into result_7eb67b5aecf3f3190aab0a5f8ea32172.txt\n",
            "Result wrote into result_result_e6a90919eab84ecbbdca11016c37b3a9.txt\n",
            "Result wrote into result_15e3d16cf68646b3383d386aae2a6849.txt\n",
            "Result wrote into result_result_a40a0347f0a91f2537ccc67c46d883b7.txt\n",
            "Result wrote into result_ef140e96384a29057445d0a889f1ad50.txt\n",
            "Result wrote into result_result_6babd660f1a9192017a06b7e93bea919.txt\n",
            "Result wrote into result_7a120d4c7cec157324effa671e2d0812.txt\n",
            "Result wrote into result_result_d54c0b06162cf7cf57e8b1e7356aa204.txt\n",
            "Result wrote into result_bdfb262c00991dddebfc5d4a87604284.txt\n",
            "Result wrote into result_86d6d0062e91651ccc3d3ce35b162bf8.txt\n",
            "Result wrote into result_2c81df29db63aebf495106881a52188f.txt\n",
            "Result wrote into result_result_66ee9b692a6b9c690564c92121a76b15.txt\n",
            "Result wrote into result_a69f5a60f3fd9a081cb0528dd461be45.txt\n",
            "Result wrote into result_5908cb5da047d6c9e6dfea6337fb3189.txt\n",
            "Result wrote into result_result_dda3ea2dc3a078682620f926a54aa0bf.txt\n",
            "Result wrote into result_3031ff9bc88ad88532311b419267c875.txt\n",
            "Result wrote into result_result_7aff676ead9fe323b2c542e60accb1ae.txt\n",
            "Result wrote into result_result_abcec818adbe358f8071a75e0fe2cc49.txt\n",
            "Result wrote into result_result_f6377999f8a5aa9a09b03e428ac93153.txt\n",
            "Result wrote into result_result_b40a9d048b199d5f4db62a6a2335f2a0.txt\n",
            "Result wrote into result_result_0f7f507d0af90aba3c35484de016d8b4.txt\n",
            "Result wrote into result_97d4cf03b88c9e040557ab1b61e2e7a2.txt\n",
            "Result wrote into result_result_2b25ecf601a9ce0c2a33c8e1d9746df2.txt\n",
            "Result wrote into result_result_15e3d16cf68646b3383d386aae2a6849.txt\n",
            "Result wrote into result_c3141b7956167ce3987b82beb6cf73c4.txt\n",
            "Result wrote into result_result_57962abd8dbe0ce0c7056896ee4501f1.txt\n",
            "Result wrote into result_result_b303afea664ed05cdbc73a8c3b31b09d.txt\n",
            "Result wrote into result_result_a69f5a60f3fd9a081cb0528dd461be45.txt\n",
            "Result wrote into result_result_7a120d4c7cec157324effa671e2d0812.txt\n",
            "Result wrote into result_result_8540a7dccb3a9e4d0a1a2611e077ce9d.txt\n",
            "Result wrote into result_086ad48895d2a73854b6151decc28800.txt\n",
            "Result wrote into result_result_259b481366842141111305897cce7486.txt\n",
            "Result wrote into result_7aff676ead9fe323b2c542e60accb1ae.txt\n",
            "Result wrote into result_a525f050cef10dee3a42468daec064ff.txt\n",
            "Result wrote into result_f6377999f8a5aa9a09b03e428ac93153.txt\n",
            "Result wrote into result_result_84fec112d02288861e7af59f468131fb.txt\n",
            "Result wrote into result_2351cf256df1b683a425211c1ed0e848.txt\n",
            "Result wrote into result_3588ff6fb8f5c5a5f70196500198ca3a.txt\n",
            "Result wrote into result_49bce5af1c98cd017a310ea8edd3e55b.txt\n",
            "Result wrote into result_b95bbf14eb26ac912b1339e321cbca34.txt\n",
            "Result wrote into result_df_for_train.txt\n",
            "Result wrote into result_a8a9861b63d26f13f0f10a075158b6da.txt\n",
            "Result wrote into result_e3f3df754bdf7578a71b7a9fa1500ad9.txt\n",
            "Result wrote into result_137eaaa047f557233943012897e46cec.txt\n",
            "Result wrote into result_result_7e0cf1019baa9e1cdabcfc06d522d424.txt\n",
            "Result wrote into result_b19a67817142ea9f2231aa63dfd2981c.txt\n",
            "Result wrote into result_5e9754740f6c89a96cf5996404ec3c27.txt\n",
            "Result wrote into result_ff6882cb4a3ec31dec18a94e1d1745b1.txt\n",
            "Result wrote into result_073a0d372820c3c2bffe9ba24a7ed7af.txt\n",
            "Result wrote into result_result_18d573815c15b4e798bdfbfb52fb2f43.txt\n",
            "Result wrote into result_317dc2690741c169db9dc901ff5a3258.txt\n",
            "Result wrote into result_result_4c2c295e81f4a6c3e669e8f76c6ce423.txt\n",
            "Result wrote into result_result_62e280b12c607701866006e37ad990a5.txt\n",
            "Result wrote into result_69ab7557dee21939aa7432b23a54cb2b.txt\n",
            "Result wrote into result_dda3ea2dc3a078682620f926a54aa0bf.txt\n",
            "Result wrote into result_2d4708c800dc003466fa9a8a64e2e2b7.txt\n",
            "Result wrote into result_result_49bce5af1c98cd017a310ea8edd3e55b.txt\n",
            "Result wrote into result_856860329f573bbaf158e1eafa885ba5.txt\n",
            "Result wrote into result_f96c2a58215aa54aeb6713cbb457fad9.txt\n",
            "Result wrote into result_81a64023bdb74032827385d43181ea3a.txt\n",
            "Result wrote into result_result_03a70fe60be9ecc2a63798a361fc9689.txt\n",
            "Result wrote into result_result_856860329f573bbaf158e1eafa885ba5.txt\n",
            "Result wrote into result_2060962a8b7ca4c45dc041c3f624225a.txt\n",
            "Result wrote into result_result_7eb67b5aecf3f3190aab0a5f8ea32172.txt\n",
            "Result wrote into result_result_02682d726b725f95b9ee85f751c043d0.txt\n",
            "Result wrote into result_result_2d4708c800dc003466fa9a8a64e2e2b7.txt\n",
            "Result wrote into result_91ba127aad1b88905603ecc3aacac0d1.txt\n",
            "Result wrote into result_df.txt\n",
            "Result wrote into result_result_19e2becdb0f10e1c16a5a2460f3a84a2.txt\n",
            "Result wrote into result_a0e06a957c1a729fe1d978605680e2ae.txt\n",
            "Result wrote into result_result_910ccf7c9b029846e4390ddac5f8d687.txt\n",
            "Result wrote into result_result_1ea8809d696a4bd6a2076fbc6fd28c23.txt\n",
            "Result wrote into result_616d4446e85de23f29337a6e089c67cb.txt\n",
            "Result wrote into result_result_073a0d372820c3c2bffe9ba24a7ed7af.txt\n",
            "Result wrote into result_result_641282d3072e91ab05c97110e0340020.txt\n",
            "Result wrote into result_result_81a64023bdb74032827385d43181ea3a.txt\n",
            "Result wrote into result_64f58bc6e1207a570a38d771609b2cf1.txt\n",
            "Result wrote into result_result_99a11e3e403b7c8b0773108a84839517.txt\n",
            "Result wrote into result_result_34f5456e56beb78b311728f738167d3a.txt\n",
            "Result wrote into result_result_981d5a0ebbecffa588848251d0750fec.txt\n",
            "Result wrote into result_result_5908cb5da047d6c9e6dfea6337fb3189.txt\n",
            "Result wrote into result_8b82f3c800e486d9da9a13c98f7a40d6.txt\n",
            "Result wrote into result_result_2060962a8b7ca4c45dc041c3f624225a.txt\n",
            "Result wrote into result_2054a58154349bc54b691666fe3f89b1.txt\n",
            "Result wrote into result_result_14711e4fc8e56f0c75856c8837ec04cb.txt\n",
            "Result wrote into result_result_64f58bc6e1207a570a38d771609b2cf1.txt\n",
            "Result wrote into result_result_f96c2a58215aa54aeb6713cbb457fad9.txt\n",
            "Result wrote into result_result_58c8976ca35aa805aa9d21246d5d18ee.txt\n",
            "Result wrote into result_result_855c8450351c98a25ea2ac22a0256c7f.txt\n",
            "Result wrote into result_result_5262e9c377c3ab1f6b8141762cca69ad.txt\n",
            "Result wrote into result_03a70fe60be9ecc2a63798a361fc9689.txt\n",
            "Result wrote into result_result_cf89a65d4477656ec05262ae55bb6aaa.txt\n",
            "Result wrote into result_317e4552102e82bd9e17ba1205cd4367.txt\n",
            "Result wrote into result_result_a525f050cef10dee3a42468daec064ff.txt\n",
            "Result wrote into result_result_137eaaa047f557233943012897e46cec.txt\n",
            "Result wrote into result_99a11e3e403b7c8b0773108a84839517.txt\n",
            "Result wrote into result_result_317dc2690741c169db9dc901ff5a3258.txt\n",
            "Result wrote into result_result_a2f8675b6d37b6af819ca3fdbb0e3432.txt\n",
            "Result wrote into result_result_4a5707e447271a188a1211606b158a94.txt\n",
            "Result wrote into result_sample_data.txt\n"
          ]
        }
      ]
    },
    {
      "cell_type": "code",
      "source": [
        "path = '/content/classes.json'\n",
        "with open(path) as file:\n",
        "  dict_train = json.load(file)\n",
        "cls_dict = {'Договоры для акселератора/Договоры поставки':'1',\n",
        "            'Договоры для акселератора/Договоры оказания услуг':'2',\n",
        "            'Договоры для акселератора/Договоры подряда': '3',\n",
        "            'Договоры для акселератора/Договоры аренды':'4',\n",
        "            'Договоры для акселератора/Договоры купли-продажи':'5'\n",
        "    \n",
        "}\n",
        "train = pd.DataFrame.from_dict(dict_train,  orient='index').reset_index()\n",
        "train[0] = train[0].map(lambda x: cls_dict[x])\n",
        "train.rename(columns = {'index' : 'name'}, inplace=True)\n",
        "train.name = train['name'].apply(lambda x: x.split('.')[0])"
      ],
      "metadata": {
        "id": "eIWu56ziC3bq"
      },
      "execution_count": null,
      "outputs": []
    },
    {
      "cell_type": "code",
      "source": [
        "res = df.merge(train, on=[\"name\"], how='left')\n",
        "res = res[['name','text','keywords',0]]\n",
        "res.rename(columns = {0 : 'type'}, inplace=True)\n",
        "df_for_train = res\n",
        "filepath = Path('df_for_train.csv')  \n",
        "df_for_train.to_csv(filepath, index=False)"
      ],
      "metadata": {
        "id": "OBtj-_1mJ7uy"
      },
      "execution_count": 72,
      "outputs": []
    }
  ]
}